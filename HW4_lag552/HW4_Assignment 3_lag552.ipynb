{
 "cells": [
  {
   "cell_type": "code",
   "execution_count": 1,
   "metadata": {
    "collapsed": true
   },
   "outputs": [],
   "source": [
    "from __future__ import print_function, division\n",
    "import numpy as np"
   ]
  },
  {
   "cell_type": "markdown",
   "metadata": {},
   "source": [
    "# CEO Transitional Jobs Tests"
   ]
  },
  {
   "cell_type": "markdown",
   "metadata": {},
   "source": [
    "**Hypotheses Statements: CEO Transitional Jobs**\n",
    "\n",
    "*Null Hypothesis:* The % of former prisoners employed in CEO transitional jobs after release is the same or lower for candidates who participated in the program as for the control group, significance level p=0.05.\n",
    "\n",
    "*H0 Equation:* proportion employed in CEO jobs in program group <= proportion employed in CEO jobs in control group\n",
    "\n",
    "*Alternative Hypothesis:* The % of former prisoners employed in CEO transitional jobs after release is the higher for candidates who participated in the program as for the control group, significance level p=0.05. \n",
    "\n",
    "*Ha Equation:* proportion employed in CEO jobs in program group > proportion employed in CEO jobs in control group"
   ]
  },
  {
   "cell_type": "code",
   "execution_count": 2,
   "metadata": {
    "collapsed": false
   },
   "outputs": [
    {
     "name": "stdout",
     "output_type": "stream",
     "text": [
      "we must assess the statistical significance\n"
     ]
    }
   ],
   "source": [
    "# Significance level\n",
    "alpha=0.05\n",
    "# Proportion of control group employed in CEO job\n",
    "p_0 = 3.5*0.01 \n",
    "# Proportion of program group employed in CEO job\n",
    "p_1 = 70.1*0.01\n",
    "\n",
    "if p_0-p_1 >= 0:\n",
    "    print (\"the Null holds\")\n",
    "else:\n",
    "    print (\"we must assess the statistical significance\")\n",
    "\n",
    "# Sample size of control group\n",
    "n_0 = 409\n",
    "# Sample size of program group\n",
    "n_1 = 564\n",
    "\n",
    "# Count of employed in control group\n",
    "Nt_0 = p_0 * n_0\n",
    "# Count of employed in program group\n",
    "Nt_1 = p_1 * n_1"
   ]
  },
  {
   "cell_type": "markdown",
   "metadata": {},
   "source": [
    "## Z-Test"
   ]
  },
  {
   "cell_type": "code",
   "execution_count": 3,
   "metadata": {
    "collapsed": false
   },
   "outputs": [
    {
     "name": "stdout",
     "output_type": "stream",
     "text": [
      "0.421047276465\n"
     ]
    }
   ],
   "source": [
    "# Sample proportion (pooled proportion)\n",
    "sp = (p_0 * n_0 + p_1 * n_1) / (n_1 + n_0)\n",
    "print (sp)"
   ]
  },
  {
   "cell_type": "code",
   "execution_count": 4,
   "metadata": {
    "collapsed": false
   },
   "outputs": [
    {
     "name": "stdout",
     "output_type": "stream",
     "text": [
      "0.035 409 564 0.0320658086057\n"
     ]
    }
   ],
   "source": [
    "def sp_stdev(p, n):\n",
    "    return(np.sqrt(p * (1 - p) / n[0] +  p * (1 - p) / n[1]))\n",
    "\n",
    "sp_stdev_2y = sp_stdev(( Nt_0 + Nt_1) / (n_0 + n_1), [n_0, n_1])\n",
    "print (p_0, n_0, n_1, sp_stdev_2y)"
   ]
  },
  {
   "cell_type": "code",
   "execution_count": 5,
   "metadata": {
    "collapsed": false
   },
   "outputs": [
    {
     "name": "stdout",
     "output_type": "stream",
     "text": [
      "20.7697865408\n"
     ]
    }
   ],
   "source": [
    "def zscore(p0, p1, s):\n",
    "    return((p0 - p1) / s)\n",
    "\n",
    "z_2y = zscore(p_1, p_0, sp_stdev_2y)\n",
    "print (z_2y)"
   ]
  },
  {
   "cell_type": "code",
   "execution_count": 6,
   "metadata": {
    "collapsed": false
   },
   "outputs": [
    {
     "name": "stdout",
     "output_type": "stream",
     "text": [
      "is the p value 0.00 smaller than the critical value 0.05? \n",
      "YES!\n",
      "the Null hypothesis is rejected\n"
     ]
    }
   ],
   "source": [
    "# The z-value of 20.8 is larger than what's given in the z-table, so we'll take the area value for the highest available value, 0.9998\n",
    "p_2y = 1 - 0.9998\n",
    "\n",
    "\n",
    "def report_result(p,a):\n",
    "    print ('is the p value {0:.2f} smaller than the critical value {1:.2f}? '.format(p,a))\n",
    "    if p < a:\n",
    "        print (\"YES!\")\n",
    "    else: \n",
    "        print (\"NO!\")\n",
    "    \n",
    "    print ('the Null hypothesis is {}'.format( 'rejected' if p < a  else 'not rejected') )\n",
    "\n",
    "    \n",
    "report_result(p_2y,alpha)"
   ]
  },
  {
   "cell_type": "markdown",
   "metadata": {},
   "source": [
    "**Z-Statistic Conclusion: CEO Transitional Job:**\n",
    "\n",
    "From our z-statistic, we obtained a p-value of 0.00 from the z-stat table. 0.00 is obviously smaller than our alpha level of 0.05, we can reject the null hypothesis and conclude that the % of former prisoners employed in CEO transitional jobs after release is the higher for candidates who participated in the program as for the control group at a significance level of alpha = 0.05."
   ]
  },
  {
   "cell_type": "markdown",
   "metadata": {},
   "source": [
    "## Chi-Square Test"
   ]
  },
  {
   "cell_type": "markdown",
   "metadata": {},
   "source": [
    "### The following tables were calculated by hand:"
   ]
  },
  {
   "cell_type": "markdown",
   "metadata": {},
   "source": [
    "**Observed:**\n",
    "\n",
    "|Employed|Yes|No|\n",
    "|:--------------:|:------:|:----------:|\n",
    "|test sample|0.701*564 = 395.364|0.299*564 = 168.636|564|\n",
    "|control sample|0.035*409 = 14.315|0.965*409 = 394.685|409|\n",
    "|\n",
    "|Total|409.679|563.321|973|"
   ]
  },
  {
   "cell_type": "markdown",
   "metadata": {},
   "source": [
    "**Expected:**\n",
    "\n",
    "|Employed|Yes|No|\n",
    "|:--------------:|:------:|:----------:|\n",
    "|test sample|(564*409.679)/973 = 237.47|(564*563.321)/973 = 326.53|564|\n",
    "|control sample|(409*409.679)/973 = 172.21|(409*563.321)/973 = 236.79|409|\n",
    "|\n",
    "|Total|409.7|563.32|973|"
   ]
  },
  {
   "cell_type": "code",
   "execution_count": 7,
   "metadata": {
    "collapsed": false
   },
   "outputs": [
    {
     "name": "stdout",
     "output_type": "stream",
     "text": [
      "431.362687242\n"
     ]
    }
   ],
   "source": [
    "def chisqstat(N, values, expect_num):\n",
    "    return(((values[0][0] * values[1][1] - values[0][1] * values[1][0])**2) * N / expect_num)\n",
    "\n",
    "Ntot = 973\n",
    "expected_num = 564 * 409 * 409.7 * 563.32\n",
    "sample_values = [[0.701 * 564, 0.299 * 564], [0.035 * 409, 0.965 * 409]]\n",
    " \n",
    "\n",
    "print (chisqstat(Ntot,  sample_values, expected_num))"
   ]
  },
  {
   "cell_type": "markdown",
   "metadata": {},
   "source": [
    "**Chi-Square Test Conclusion: CEO Transitional Jobs:**\n",
    "\n",
    "A chi-square value of 431 is much larger than 6.63, the highest area given in the chi-square table and associated with the smallest listed p-value of 0.01. Since this p-value is thus much smaller than our alpha level of 0.05, we can reject the null hypothesis and conclude that the % of former prisoners employed in CEO transitional jobs after release is the higher for candidates who participated in the program as for the control group at a significance level of alpha = 0.05."
   ]
  },
  {
   "cell_type": "markdown",
   "metadata": {},
   "source": [
    "# Felony Conviction Tests"
   ]
  },
  {
   "cell_type": "markdown",
   "metadata": {},
   "source": [
    "**Hypotheses Statements: Convicted of a felony**\n",
    "\n",
    "*Null Hypothesis:* Those in the program group have the same or higher rates of felonies over three years after the program than those in the control group, alpha = 0.05.\n",
    "\n",
    "*H0 Equation:* proportion felonies in program group >= proportion felonies in control group\n",
    "\n",
    "*Alternative Hypothesis:* Those in the program group have lower rates of felonies over three years following the program than those in the control group. \n",
    "\n",
    "*Ha Equation:* proportion felonies in program group < proportion felonies in control group"
   ]
  },
  {
   "cell_type": "code",
   "execution_count": 8,
   "metadata": {
    "collapsed": false
   },
   "outputs": [
    {
     "name": "stdout",
     "output_type": "stream",
     "text": [
      "the Null holds\n"
     ]
    }
   ],
   "source": [
    "# Significance level\n",
    "alpha=0.05\n",
    "# Proportion of control group convicted of a felony\n",
    "p_0 = 11.7*0.01 \n",
    "# Proportion of program group convected of a felony\n",
    "p_1 = 10.0*0.01\n",
    "\n",
    "if p_0-p_1 >= 0:\n",
    "    print (\"the Null holds\")\n",
    "else:\n",
    "    print (\"we must assess the statistical significance\")\n",
    "\n",
    "# Sample size of control group (with Recidivism data)\n",
    "n_0 = 409\n",
    "# Sample size of program group (with Recidivism data)\n",
    "n_1 = 568\n",
    "\n",
    "# Count of felony convicts in control group\n",
    "Nt_0 = p_0 * n_0\n",
    "# Count of felony convicts in program group\n",
    "Nt_1 = p_1 * n_1"
   ]
  },
  {
   "cell_type": "markdown",
   "metadata": {},
   "source": [
    "## Z-Test"
   ]
  },
  {
   "cell_type": "code",
   "execution_count": 9,
   "metadata": {
    "collapsed": false
   },
   "outputs": [
    {
     "name": "stdout",
     "output_type": "stream",
     "text": [
      "0.107116683726\n"
     ]
    }
   ],
   "source": [
    "# Sample proportion (pooled proportion)\n",
    "sp = (p_0 * n_0 + p_1 * n_1) / (n_1 + n_0)\n",
    "print (sp)"
   ]
  },
  {
   "cell_type": "code",
   "execution_count": 10,
   "metadata": {
    "collapsed": false
   },
   "outputs": [
    {
     "name": "stdout",
     "output_type": "stream",
     "text": [
      "0.117 409 568 0.0200556791612\n"
     ]
    }
   ],
   "source": [
    "def sp_stdev(p, n):\n",
    "    return(np.sqrt(p * (1 - p) / n[0] +  p * (1 - p) / n[1]))\n",
    "\n",
    "sp_stdev_2y = sp_stdev(( Nt_0 + Nt_1) / (n_0 + n_1), [n_0, n_1])\n",
    "print (p_0, n_0, n_1, sp_stdev_2y)"
   ]
  },
  {
   "cell_type": "code",
   "execution_count": 11,
   "metadata": {
    "collapsed": false
   },
   "outputs": [
    {
     "name": "stdout",
     "output_type": "stream",
     "text": [
      "0.84764020522\n"
     ]
    }
   ],
   "source": [
    "def zscore(p0, p1, s):\n",
    "    return((p0 - p1) / s)\n",
    "\n",
    "z_2y = zscore(p_1, p_0, sp_stdev_2y)\n",
    "print (abs(z_2y))\n",
    "# Absolute value used because our z-table only contains positive values\n",
    "# Could have used the negative value and just not subtracted from 1 in the next step"
   ]
  },
  {
   "cell_type": "code",
   "execution_count": 12,
   "metadata": {
    "collapsed": false
   },
   "outputs": [
    {
     "name": "stdout",
     "output_type": "stream",
     "text": [
      "is the p value 0.18 smaller than the critical value 0.05? \n",
      "NO!\n",
      "the Null hypothesis is not rejected\n"
     ]
    }
   ],
   "source": [
    "# Our z-statistic falls between 0.8 and 0.9 in the table, so we took the average of the two areas corresponding to these values.\n",
    "area = (0.8289 + 0.8023)/2\n",
    "p_2y = 1 - area\n",
    "\n",
    "\n",
    "def report_result(p,a):\n",
    "    print ('is the p value {0:.2f} smaller than the critical value {1:.2f}? '.format(p,a))\n",
    "    if p < a:\n",
    "        print (\"YES!\")\n",
    "    else: \n",
    "        print (\"NO!\")\n",
    "    \n",
    "    print ('the Null hypothesis is {}'.format( 'rejected' if p < a  else 'not rejected') )\n",
    "\n",
    "    \n",
    "report_result(p_2y,alpha)"
   ]
  },
  {
   "cell_type": "markdown",
   "metadata": {},
   "source": [
    "**Z-Statistic Conclusion: Convicted of a felony:**\n",
    "\n",
    "From our z-statistic, we obtained a p-value of 0.18 from the z-stat table. 0.18 is greater than our alpha level of 0.05, so we fail to reject the null hypothesis that those in the program group have the same or higher rates of felonies over three years after the program than those in the control group."
   ]
  },
  {
   "cell_type": "markdown",
   "metadata": {},
   "source": [
    "## Chi-Square Test"
   ]
  },
  {
   "cell_type": "code",
   "execution_count": 13,
   "metadata": {
    "collapsed": false
   },
   "outputs": [
    {
     "name": "stdout",
     "output_type": "stream",
     "text": [
      "56.8 511.2 47.853 361.147\n"
     ]
    }
   ],
   "source": [
    "#Contingency table calculations\n",
    "a = 568 * 0.1\n",
    "b = 568 * (1 - 0.1)\n",
    "c = 409 * 0.117\n",
    "d = 409 * (1 - 0.117)\n",
    "print(a, b, c, d)"
   ]
  },
  {
   "cell_type": "code",
   "execution_count": 14,
   "metadata": {
    "collapsed": false
   },
   "outputs": [
    {
     "data": {
      "text/plain": [
       "104.653"
      ]
     },
     "execution_count": 14,
     "metadata": {},
     "output_type": "execute_result"
    }
   ],
   "source": [
    "rowtot = a + c\n",
    "coltot = b + d\n",
    "Ntot = 977\n",
    "rowtot"
   ]
  },
  {
   "cell_type": "code",
   "execution_count": 15,
   "metadata": {
    "collapsed": false
   },
   "outputs": [
    {
     "data": {
      "text/plain": [
       "872.347"
      ]
     },
     "execution_count": 15,
     "metadata": {},
     "output_type": "execute_result"
    }
   ],
   "source": [
    "coltot"
   ]
  },
  {
   "cell_type": "markdown",
   "metadata": {},
   "source": [
    "**Observed:**\n",
    "\n",
    "|Convicted felony|Yes|No|\n",
    "|:--------------:|:------:|:----------:|\n",
    "|test sample|0.1*568 = 56.8|0.9*568 = 511.2|568|\n",
    "|control sample|0.117*409 = 47.853|0.883*409 = 361.147|409|\n",
    "|\n",
    "|Total|104.653|872.347|977|"
   ]
  },
  {
   "cell_type": "markdown",
   "metadata": {},
   "source": [
    "**Expected:**\n",
    "\n",
    "|Convicted felony|Yes|No|\n",
    "|:--------------:|:------:|:----------:|\n",
    "|test sample|(568*104.653)/977 = 60.84|(568*872.347)/977 = 507.16|568|\n",
    "|control sample|(409*104.653)/977 = 43.81|(409*872.347)/977 = 365.19|409|\n",
    "|\n",
    "|Total|104.653|872.347|977|"
   ]
  },
  {
   "cell_type": "code",
   "execution_count": 16,
   "metadata": {
    "collapsed": false
   },
   "outputs": [
    {
     "name": "stdout",
     "output_type": "stream",
     "text": [
      "0.718493917505\n"
     ]
    }
   ],
   "source": [
    "def chisqstat(N, values, expect_num):\n",
    "    return(((values[0][0] * values[1][1] - values[0][1] * values[1][0])**2) * N / expect_num)\n",
    "\n",
    "Ntot = 977\n",
    "expected_num = 568 * 409 * 104.653 * 872.347\n",
    "sample_values = [[0.1 * 568, 0.9 * 568], [0.117 * 409, 0.883 * 409]]\n",
    " \n",
    "\n",
    "print (chisqstat(Ntot,  sample_values, expected_num))"
   ]
  },
  {
   "cell_type": "code",
   "execution_count": 17,
   "metadata": {
    "collapsed": true
   },
   "outputs": [],
   "source": [
    "chisq_felonies = 0.718\n",
    "# Chi-square value calculated by hand, matches above value"
   ]
  },
  {
   "cell_type": "code",
   "execution_count": 18,
   "metadata": {
    "collapsed": false
   },
   "outputs": [
    {
     "name": "stdout",
     "output_type": "stream",
     "text": [
      "is the p value 0.38 smaller than the critical value 0.05? \n",
      "NO!\n",
      "the Null hypothesis is not rejected\n"
     ]
    }
   ],
   "source": [
    "# Degrees of freedom = 1, since df = n - 1 (where n is the number of classes, in this case 2 - the control and program groups)\n",
    "# Our chi-square value of 0.72 falls between the areas 0.455 and 1.32 in the table, returning a p-value between 0.25 and 0.5. \n",
    "# For simplicity's sake, we'll take the average of these and determine a p-value of 0.375.\n",
    "\n",
    "# P-value\n",
    "p_chi = 0.375\n",
    "\n",
    "\n",
    "def report_result(p,a):\n",
    "    print ('is the p value {0:.2f} smaller than the critical value {1:.2f}? '.format(p,a))\n",
    "    if p < a:\n",
    "        print (\"YES!\")\n",
    "    else: \n",
    "        print (\"NO!\")\n",
    "    \n",
    "    print ('the Null hypothesis is {}'.format( 'rejected' if p < a  else 'not rejected') )\n",
    "\n",
    "    \n",
    "report_result(p_chi,alpha)"
   ]
  },
  {
   "cell_type": "markdown",
   "metadata": {
    "collapsed": true
   },
   "source": [
    "**Chi-Square Test Conclusion: Convicted of a felony:**\n",
    "\n",
    "From our chi-square value, we obtained a p-value between 0.25 and 0.5 from the chi-square table. This range is greater than our alpha level of 0.05, so we fail to reject the null hypothesis that those in the program group have the same or higher rates of felonies over three years after the program than those in the control group."
   ]
  },
  {
   "cell_type": "code",
   "execution_count": null,
   "metadata": {
    "collapsed": true
   },
   "outputs": [],
   "source": []
  }
 ],
 "metadata": {
  "kernelspec": {
   "display_name": "PUI2016_Python2",
   "language": "python",
   "name": "pui2016_python2"
  },
  "language_info": {
   "codemirror_mode": {
    "name": "ipython",
    "version": 2
   },
   "file_extension": ".py",
   "mimetype": "text/x-python",
   "name": "python",
   "nbconvert_exporter": "python",
   "pygments_lexer": "ipython2",
   "version": "2.7.12"
  }
 },
 "nbformat": 4,
 "nbformat_minor": 0
}
