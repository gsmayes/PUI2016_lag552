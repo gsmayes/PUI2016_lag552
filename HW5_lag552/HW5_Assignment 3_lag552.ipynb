{
 "cells": [
  {
   "cell_type": "markdown",
   "metadata": {},
   "source": [
    "# Null Hypotheses Exercise\n",
    "\n",
    "**1. Do diets help lose more fat than exercise? Experimental setup: you have a test and a control sample.**\n",
    "\n",
    "*Null Hypothesis:* An average person who diets loses significantly less or equal fat compared to a person who exercises, alpha = 0.05.\n",
    "\n",
    "*H0 Formula:* Fat loss (diet group) <= Fat loss (exercise group)\n",
    "\n",
    "**2. Do Americans trust the president? POLL RESULTS: On May 16, 1994, Newsweek reported the results of a public opinion poll that asked: “From everything you know about Bill Clinton, does he have the honesty and integrity you expect in a president?” (p. 23). Poll surveyed 518 adults and 233, or 0.45 of them answered yes.**\n",
    "\n",
    "*Null Hypothesis:* The same or lower percentage of Americans trust the president (Bill Clinton) than those who do not, alpha = 0.05.\n",
    "\n",
    "*H0 Formula:* % Americans who trust Bill Clinton <= % Americans who do not trust Bill Clinton\n",
    "\n",
    "**3. Effectiveness of nicotine patches to quit smoking. Experimental setup: measure cessation rates for smokers randomly assigned to use a nicotine patch versus a placebo patch.**\n",
    "\n",
    "*Null Hypothesis:* The cessation rate of smokers using nicotine patches is the same or less than the cessation rate of smokers using placebo patches, alpha = 0.05.\n",
    "\n",
    "*H0 Formula:* Cessation rate of smokers (nicotine patches) <= Cessation rate of smokers (placebo patches)\n",
    "\n",
    "**4. Quantify the danger of smoking for pregnant women. Experimemtal setup: measure IQ of children at ages 1, 2, 3, and 4 years of age.**\n",
    "\n",
    "*Null Hypothesis:* Children born to smoking mothers have the same or higher IQs in early childhood than children born to nonsmoking mothers, alpha = 0.05.\n",
    "\n",
    "*H0 Formula:* Children's IQ (born to smoking mothers) >= Children's IQ (born to nonsmoking mothers)"
   ]
  },
  {
   "cell_type": "code",
   "execution_count": null,
   "metadata": {
    "collapsed": true
   },
   "outputs": [],
   "source": []
  }
 ],
 "metadata": {
  "kernelspec": {
   "display_name": "Python 3",
   "language": "python",
   "name": "python3"
  },
  "language_info": {
   "codemirror_mode": {
    "name": "ipython",
    "version": 3
   },
   "file_extension": ".py",
   "mimetype": "text/x-python",
   "name": "python",
   "nbconvert_exporter": "python",
   "pygments_lexer": "ipython3",
   "version": "3.4.2"
  }
 },
 "nbformat": 4,
 "nbformat_minor": 0
}
