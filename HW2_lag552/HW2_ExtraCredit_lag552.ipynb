{
 "cells": [
  {
   "cell_type": "code",
   "execution_count": 1,
   "metadata": {
    "collapsed": false
   },
   "outputs": [
    {
     "name": "stdout",
     "output_type": "stream",
     "text": [
      "Populating the interactive namespace from numpy and matplotlib\n"
     ]
    }
   ],
   "source": [
    "from __future__ import print_function\n",
    "import os\n",
    "import pandas as pd\n",
    "import numpy as np\n",
    "import pylab as pl\n",
    "import sys\n",
    "%pylab inline"
   ]
  },
  {
   "cell_type": "code",
   "execution_count": 2,
   "metadata": {
    "collapsed": false
   },
   "outputs": [
    {
     "data": {
      "text/plain": [
       "{'CLICOLOR': '1',\n",
       " 'DFDATA': '/gws/open/NYCOpenData/nycopendata/data',\n",
       " 'GIT_PAGER': 'cat',\n",
       " 'HOME': '/home/cusp/lag552',\n",
       " 'JPY_PARENT_PID': '7549',\n",
       " 'LANG': 'en_US.UTF-8',\n",
       " 'LD_LIBRARY_PATH': '/opt/rh/v8314/root/usr/lib64:/opt/rh/nodejs010/root/usr/lib64:/opt/rh/rh-python34/root/usr/lib64:/localhome/oracle/11g-client/product/11.2.0/client_1/lib',\n",
       " 'MPLBACKEND': 'module://ipykernel.pylab.backend_inline',\n",
       " 'PAGER': 'cat',\n",
       " 'PATH': '/opt/rh/v8314/root/usr/bin:/opt/rh/nodejs010/root/usr/bin:/opt/rh/rh-python34/root/usr/bin:/sbin:/usr/sbin:/bin:/usr/bin:/usr/local/bin',\n",
       " 'PUI2016': '/home/cusp/lag552/PUI2016',\n",
       " 'PUIDATA': '/home/cusp/lag552/PUIdata',\n",
       " 'PWD': '/wingrdp/homedirs/lag552/PUI2016_lag552/HW2_lag552',\n",
       " 'SHELL': '/bin/bash',\n",
       " 'SHLVL': '0',\n",
       " 'TERM': 'xterm-color',\n",
       " 'USER': 'lag552'}"
      ]
     },
     "execution_count": 2,
     "metadata": {},
     "output_type": "execute_result"
    }
   ],
   "source": [
    "env"
   ]
  },
  {
   "cell_type": "code",
   "execution_count": 3,
   "metadata": {
    "collapsed": false
   },
   "outputs": [],
   "source": [
    "DFDATA = os.getenv('DFDATA')"
   ]
  },
  {
   "cell_type": "code",
   "execution_count": 4,
   "metadata": {
    "collapsed": false
   },
   "outputs": [],
   "source": [
    "df1 = pd.read_csv(DFDATA + \"/5b3a-rs48/1414245944/5b3a-rs48\")"
   ]
  },
  {
   "cell_type": "code",
   "execution_count": 5,
   "metadata": {
    "collapsed": false
   },
   "outputs": [
    {
     "data": {
      "text/plain": [
       "Index([u'Agency', u'Platform', u'Url', u'Date Sampled',\n",
       "       u'Likes/Followers/Visits/Downloads'],\n",
       "      dtype='object')"
      ]
     },
     "execution_count": 5,
     "metadata": {},
     "output_type": "execute_result"
    }
   ],
   "source": [
    "df1.columns"
   ]
  },
  {
   "cell_type": "code",
   "execution_count": 6,
   "metadata": {
    "collapsed": false
   },
   "outputs": [
    {
     "data": {
      "text/html": [
       "<div>\n",
       "<table border=\"1\" class=\"dataframe\">\n",
       "  <thead>\n",
       "    <tr style=\"text-align: right;\">\n",
       "      <th></th>\n",
       "      <th>Agency</th>\n",
       "      <th>Platform</th>\n",
       "      <th>Url</th>\n",
       "      <th>Date Sampled</th>\n",
       "      <th>Likes/Followers/Visits/Downloads</th>\n",
       "    </tr>\n",
       "  </thead>\n",
       "  <tbody>\n",
       "    <tr>\n",
       "      <th>0</th>\n",
       "      <td>nycgov</td>\n",
       "      <td>Google+</td>\n",
       "      <td>https://plus.google.com/u/0/b/1040309112776424...</td>\n",
       "      <td>12/12/2012 12:00:00 AM</td>\n",
       "      <td>NaN</td>\n",
       "    </tr>\n",
       "    <tr>\n",
       "      <th>1</th>\n",
       "      <td>TLC</td>\n",
       "      <td>Facebook</td>\n",
       "      <td>http://www.facebook.com/pages/NYC-Taxi-and-Lim...</td>\n",
       "      <td>12/12/2012 12:00:00 AM</td>\n",
       "      <td>505.0</td>\n",
       "    </tr>\n",
       "    <tr>\n",
       "      <th>2</th>\n",
       "      <td>DRIS</td>\n",
       "      <td>YouTube</td>\n",
       "      <td>http://www.youtube.com/nycdeptofrecords</td>\n",
       "      <td>12/12/2012 12:00:00 AM</td>\n",
       "      <td>NaN</td>\n",
       "    </tr>\n",
       "    <tr>\n",
       "      <th>3</th>\n",
       "      <td>Veteran's Affairs</td>\n",
       "      <td>Youtube</td>\n",
       "      <td>http://www.youtube.com/channel/UCi6IvOszIb3hHP...</td>\n",
       "      <td>12/12/2012 12:00:00 AM</td>\n",
       "      <td>NaN</td>\n",
       "    </tr>\n",
       "    <tr>\n",
       "      <th>4</th>\n",
       "      <td>NYC Water</td>\n",
       "      <td>Youtube</td>\n",
       "      <td>http://www.youtube.com/nycwater</td>\n",
       "      <td>12/12/2012 12:00:00 AM</td>\n",
       "      <td>NaN</td>\n",
       "    </tr>\n",
       "  </tbody>\n",
       "</table>\n",
       "</div>"
      ],
      "text/plain": [
       "              Agency  Platform  \\\n",
       "0             nycgov   Google+   \n",
       "1                TLC  Facebook   \n",
       "2               DRIS   YouTube   \n",
       "3  Veteran's Affairs   Youtube   \n",
       "4          NYC Water   Youtube   \n",
       "\n",
       "                                                 Url            Date Sampled  \\\n",
       "0  https://plus.google.com/u/0/b/1040309112776424...  12/12/2012 12:00:00 AM   \n",
       "1  http://www.facebook.com/pages/NYC-Taxi-and-Lim...  12/12/2012 12:00:00 AM   \n",
       "2            http://www.youtube.com/nycdeptofrecords  12/12/2012 12:00:00 AM   \n",
       "3  http://www.youtube.com/channel/UCi6IvOszIb3hHP...  12/12/2012 12:00:00 AM   \n",
       "4                    http://www.youtube.com/nycwater  12/12/2012 12:00:00 AM   \n",
       "\n",
       "   Likes/Followers/Visits/Downloads  \n",
       "0                               NaN  \n",
       "1                             505.0  \n",
       "2                               NaN  \n",
       "3                               NaN  \n",
       "4                               NaN  "
      ]
     },
     "execution_count": 6,
     "metadata": {},
     "output_type": "execute_result"
    }
   ],
   "source": [
    "df1.head()"
   ]
  },
  {
   "cell_type": "code",
   "execution_count": 7,
   "metadata": {
    "collapsed": true
   },
   "outputs": [],
   "source": [
    "df2 = df1.drop([u'Agency', u'Platform', u'Url'], axis=1)"
   ]
  },
  {
   "cell_type": "code",
   "execution_count": 8,
   "metadata": {
    "collapsed": false
   },
   "outputs": [
    {
     "data": {
      "text/html": [
       "<div>\n",
       "<table border=\"1\" class=\"dataframe\">\n",
       "  <thead>\n",
       "    <tr style=\"text-align: right;\">\n",
       "      <th></th>\n",
       "      <th>Date Sampled</th>\n",
       "      <th>Likes/Followers/Visits/Downloads</th>\n",
       "    </tr>\n",
       "  </thead>\n",
       "  <tbody>\n",
       "    <tr>\n",
       "      <th>0</th>\n",
       "      <td>12/12/2012 12:00:00 AM</td>\n",
       "      <td>NaN</td>\n",
       "    </tr>\n",
       "    <tr>\n",
       "      <th>1</th>\n",
       "      <td>12/12/2012 12:00:00 AM</td>\n",
       "      <td>505.0</td>\n",
       "    </tr>\n",
       "    <tr>\n",
       "      <th>2</th>\n",
       "      <td>12/12/2012 12:00:00 AM</td>\n",
       "      <td>NaN</td>\n",
       "    </tr>\n",
       "    <tr>\n",
       "      <th>3</th>\n",
       "      <td>12/12/2012 12:00:00 AM</td>\n",
       "      <td>NaN</td>\n",
       "    </tr>\n",
       "    <tr>\n",
       "      <th>4</th>\n",
       "      <td>12/12/2012 12:00:00 AM</td>\n",
       "      <td>NaN</td>\n",
       "    </tr>\n",
       "  </tbody>\n",
       "</table>\n",
       "</div>"
      ],
      "text/plain": [
       "             Date Sampled  Likes/Followers/Visits/Downloads\n",
       "0  12/12/2012 12:00:00 AM                               NaN\n",
       "1  12/12/2012 12:00:00 AM                             505.0\n",
       "2  12/12/2012 12:00:00 AM                               NaN\n",
       "3  12/12/2012 12:00:00 AM                               NaN\n",
       "4  12/12/2012 12:00:00 AM                               NaN"
      ]
     },
     "execution_count": 8,
     "metadata": {},
     "output_type": "execute_result"
    }
   ],
   "source": [
    "df2.head()"
   ]
  },
  {
   "cell_type": "code",
   "execution_count": 9,
   "metadata": {
    "collapsed": false
   },
   "outputs": [],
   "source": [
    "df2['DatesOnly'] = pd.to_datetime(df2['Date Sampled'])"
   ]
  },
  {
   "cell_type": "code",
   "execution_count": 10,
   "metadata": {
    "collapsed": false
   },
   "outputs": [
    {
     "data": {
      "text/plain": [
       "0   2012-12-12\n",
       "1   2012-12-12\n",
       "2   2012-12-12\n",
       "3   2012-12-12\n",
       "4   2012-12-12\n",
       "Name: DatesOnly, dtype: datetime64[ns]"
      ]
     },
     "execution_count": 10,
     "metadata": {},
     "output_type": "execute_result"
    }
   ],
   "source": [
    "df2['DatesOnly'].head()"
   ]
  },
  {
   "cell_type": "code",
   "execution_count": 11,
   "metadata": {
    "collapsed": false
   },
   "outputs": [
    {
     "data": {
      "image/png": "[encoded data removed]",
      "text/plain": [
       "<matplotlib.figure.Figure at 0x7fb16c85ca10>"
      ]
     },
     "metadata": {},
     "output_type": "display_data"
    }
   ],
   "source": [
    "df2.plot(x = 'DatesOnly', y='Likes/Followers/Visits/Downloads')\n",
    "plt.xlabel('Date Sampled', fontsize = 12, fontweight = 'bold')\n",
    "plt.ylabel('Likes/Followers/Visits/Downloads', fontsize = 12, fontweight = 'bold')\n",
    "t = plt.title('NYC Social Media Usage: Hits over Time', fontsize = 16, fontweight = 'bold')\n",
    "t.set_y(1.05)\n",
    "plt.text('2011-06-01', -1150000, 'Hits for several popular social media platforms run by NYC agencies from 2011-2012.')\n",
    "plt.show()"
   ]
  },
  {
   "cell_type": "code",
   "execution_count": null,
   "metadata": {
    "collapsed": false
   },
   "outputs": [],
   "source": []
  },
  {
   "cell_type": "code",
   "execution_count": null,
   "metadata": {
    "collapsed": true
   },
   "outputs": [],
   "source": []
  }
 ],
 "metadata": {
  "kernelspec": {
   "display_name": "PUI2016_Python2",
   "language": "python",
   "name": "pui2016_python2"
  },
  "language_info": {
   "codemirror_mode": {
    "name": "ipython",
    "version": 2
   },
   "file_extension": ".py",
   "mimetype": "text/x-python",
   "name": "python",
   "nbconvert_exporter": "python",
   "pygments_lexer": "ipython2",
   "version": "2.7.12"
  }
 },
 "nbformat": 4,
 "nbformat_minor": 0
}
