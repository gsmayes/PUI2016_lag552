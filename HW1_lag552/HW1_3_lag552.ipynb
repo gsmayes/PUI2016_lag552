{
 "cells": [
  {
   "cell_type": "code",
   "execution_count": 1,
   "metadata": {
    "collapsed": true
   },
   "outputs": [],
   "source": [
    "from __future__ import print_function\n",
    "__author__ = \"Federica B. Bianco, CUSP NYU 2016\""
   ]
  },
  {
   "cell_type": "markdown",
   "metadata": {},
   "source": [
    "# Create a <i>reproducible research</i> chunk of code\n",
    "\n",
    "That means we want the reader to be able to reproduce every step of the work we do. \n",
    "\n",
    "If our work includes the use of stochastic processes and random variables that gets tricky: how do we assure the random draw gives the same number to the user that it gave to me? That is not random! \n",
    "\n",
    "That becomes possible because computers are unable to poduce truly random numbers. When we ask a computer to generate a random number, it will in fact generate a \"pseudo random\" number. The number will be randon in the sanse that it will be some number between, for example, 0 and 1 if we ask for a **uniform random distribution** or a number near 0 if we aks for a **Gaussian distribution with mean 0**. <i> But the sequence of pseudo-random numbers that a compujter generates will depend on its **seed**: if you know the seed you know all the numbers that are \"randomely\" drawn</i>.  \n",
    "\n",
    "You can read more about pseudorandom number generation in this wikipedia article https://en.wikipedia.org/wiki/Pseudorandom_number_generator\n",
    "\n",
    "Fill in the empty cells below with code, as directed."
   ]
  },
  {
   "cell_type": "code",
   "execution_count": 1,
   "metadata": {
    "collapsed": false
   },
   "outputs": [],
   "source": [
    "import os\n",
    "import sys\n",
    "\n",
    "# you can use the numpy library for random number generation: \n",
    "# http://docs.scipy.org/doc/numpy/reference/routines.random.html\n",
    "\n",
    "import numpy as np"
   ]
  },
  {
   "cell_type": "markdown",
   "metadata": {},
   "source": [
    "## THIS IS THE MOST IMPORTANT PIECE OF THIS CODE! \n",
    "### give numpy as seed for this code to be reproducible \n",
    "(no points if this is wrong)\n",
    "\n",
    "http://docs.scipy.org/doc/numpy/reference/generated/numpy.random.seed.html"
   ]
  },
  {
   "cell_type": "code",
   "execution_count": 3,
   "metadata": {
    "collapsed": false
   },
   "outputs": [],
   "source": [
    "np.random.seed(0)"
   ]
  },
  {
   "cell_type": "markdown",
   "metadata": {},
   "source": [
    "### 1. Generate random distributions. use the function \n",
    "http://docs.scipy.org/doc/numpy/reference/generated/numpy.random.randn.html\n",
    "### to generate 100 2-dimensional random datapoints in a gaussian distribution \n",
    "\n",
    "call the array ReprRand\n"
   ]
  },
  {
   "cell_type": "code",
   "execution_count": 11,
   "metadata": {
    "collapsed": false
   },
   "outputs": [
    {
     "data": {
      "text/plain": [
       "array([[ -1.55042935e+00,   4.17318821e-01,  -9.44368491e-01,\n",
       "          2.38103148e-01,  -1.40596292e+00,  -5.90057646e-01,\n",
       "         -1.10489405e-01,  -1.66069981e+00,   1.15147873e-01,\n",
       "         -3.79147563e-01,  -1.74235620e+00,  -1.30324275e+00,\n",
       "          6.05120084e-01,   8.95555986e-01,  -1.31908640e-01,\n",
       "          4.04761812e-01,   2.23843563e-01,   3.29622982e-01,\n",
       "          1.28598401e+00,  -1.50699840e+00,   6.76460732e-01,\n",
       "         -3.82008956e-01,  -2.24258934e-01,  -3.02249730e-01,\n",
       "         -3.75147117e-01,  -1.22619619e+00,   1.83339199e-01,\n",
       "          1.67094303e+00,  -5.61330204e-02,  -1.38504274e-03,\n",
       "         -6.87299037e-01,  -1.17474546e-01,   4.66166426e-01,\n",
       "         -3.70242441e-01,  -4.53804041e-01,   4.03264540e-01,\n",
       "         -9.18004770e-01,   2.52496627e-01,   8.20321797e-01,\n",
       "          1.35994854e+00,  -9.03820073e-02,   1.36759724e+00,\n",
       "          1.03440989e+00,  -9.96212640e-01,  -1.21793851e+00,\n",
       "         -3.04963638e-01,   1.02893549e+00,  -7.22870076e-02,\n",
       "         -6.00657558e-01,   1.55224318e+00,   2.86904488e-01,\n",
       "         -2.32059428e+00,   3.17160626e-01,   5.20040615e-01,\n",
       "          2.25608654e-01,   4.49712100e-01,  -6.72756089e-02,\n",
       "         -1.31839587e+00,  -3.70704003e-01,  -9.45615796e-01,\n",
       "         -9.32740911e-01,  -1.26306835e+00,   4.52489093e-01,\n",
       "          9.78961454e-02,  -4.48165363e-01,  -6.49337928e-01,\n",
       "         -2.34231050e-02,   1.07919473e+00,  -2.00421572e+00,\n",
       "          3.76876521e-01,  -5.45711974e-01,  -1.88458584e+00,\n",
       "         -1.94570308e+00,  -9.12783494e-01,   2.19509556e-01,\n",
       "          3.93062934e-01,  -9.38981573e-01,   1.01702099e+00,\n",
       "          1.42298350e+00,   3.96086585e-01,  -5.91402668e-01,\n",
       "          1.12441918e+00,   7.55395696e-01,   8.67407411e-01,\n",
       "         -6.56463675e-01,  -2.83455451e+00,   2.11679102e+00,\n",
       "         -1.61087840e+00,  -3.57680719e-02,   2.38074535e+00,\n",
       "          3.30576756e-01,   9.49246474e-01,  -1.50239657e+00,\n",
       "         -1.77766695e+00,  -5.32702792e-01,   1.09074973e+00,\n",
       "         -3.46249448e-01,  -7.94636321e-01,   1.97967290e-01,\n",
       "          1.08193522e+00],\n",
       "       [ -1.44494020e+00,  -1.21054299e+00,  -7.88669255e-01,\n",
       "          1.09463837e+00,   2.34821526e-01,   2.13215341e+00,\n",
       "          9.36445726e-01,  -3.50951769e-02,   1.26507784e+00,\n",
       "          2.11497013e-01,  -7.04921353e-01,   6.79974844e-01,\n",
       "         -6.96326654e-01,  -2.90397101e-01,   1.32778270e+00,\n",
       "         -1.01281486e-01,  -8.03141387e-01,  -4.64337691e-01,\n",
       "          1.02179059e+00,  -5.52540673e-01,  -3.86870847e-01,\n",
       "         -5.10292740e-01,   1.83925494e-01,  -3.85489760e-01,\n",
       "         -1.60183605e+00,  -8.87180942e-01,  -9.32789042e-01,\n",
       "          1.24331938e+00,   8.12674042e-01,   5.87259379e-01,\n",
       "         -5.05358317e-01,  -8.15791542e-01,  -5.07517602e-01,\n",
       "         -1.05188010e+00,   2.49720039e+00,  -2.24532165e+00,\n",
       "          5.64008535e-01,  -1.28455230e+00,  -1.04343491e-01,\n",
       "         -9.88001942e-01,  -1.17762896e+00,  -1.14019630e+00,\n",
       "          1.75498615e+00,  -1.32988422e-01,  -7.65702194e-01,\n",
       "          5.55786964e-01,   1.03493146e-02,   7.20033759e-01,\n",
       "         -1.82425666e+00,   3.03603904e-01,   7.72694837e-01,\n",
       "         -1.66159829e+00,   4.48195284e-01,   1.69618157e+00,\n",
       "         -1.48577034e-02,   8.21405937e-01,   6.70570450e-01,\n",
       "         -7.07505698e-01,   3.97667346e-02,  -1.56699471e+00,\n",
       "         -4.51303037e-01,   2.65687975e-01,   7.23100494e-01,\n",
       "          2.46121252e-02,   7.19983730e-01,  -1.10290621e+00,\n",
       "         -1.01697275e-01,   1.92793845e-02,   1.84959125e+00,\n",
       "         -2.14166656e-01,  -4.99016638e-01,   2.13512238e-02,\n",
       "         -9.19113445e-01,   1.92753849e-01,  -3.65055217e-01,\n",
       "         -1.79132755e+00,  -5.85865511e-02,  -3.17543094e-01,\n",
       "         -1.63242330e+00,  -6.71341546e-02,   1.48935596e+00,\n",
       "          5.21303748e-01,   6.11927193e-01,  -1.34149673e+00,\n",
       "          4.76898369e-01,   1.48449581e-01,   5.29045238e-01,\n",
       "          4.22628622e-01,  -1.35978073e+00,  -4.14008116e-02,\n",
       "         -7.57870860e-01,  -5.00840943e-02,  -8.97400927e-01,\n",
       "          1.31247037e+00,  -8.58972388e-01,  -8.98942156e-01,\n",
       "          7.45864065e-02,  -1.07709907e+00,  -4.24663302e-01,\n",
       "         -8.29964598e-01]])"
      ]
     },
     "execution_count": 11,
     "metadata": {},
     "output_type": "execute_result"
    }
   ],
   "source": [
    "ReprRand =np.random.randn(2,100)\n",
    "ReprRand"
   ]
  },
  {
   "cell_type": "markdown",
   "metadata": {},
   "source": [
    "#### if you did this correctly the shape of ReprRand will be (2, 100)\n"
   ]
  },
  {
   "cell_type": "code",
   "execution_count": 9,
   "metadata": {
    "collapsed": false
   },
   "outputs": [
    {
     "data": {
      "text/plain": [
       "(2, 100)"
      ]
     },
     "execution_count": 9,
     "metadata": {},
     "output_type": "execute_result"
    }
   ],
   "source": [
    "# run this cell\n",
    "ReprRand.shape"
   ]
  },
  {
   "cell_type": "markdown",
   "metadata": {},
   "source": [
    "## 2. use the same function to generate 50 more random 2x100 numpy arrays and store them in ReprRandAll, all with different mean.\n",
    "\n",
    "np.random.randn creates a distribution with mean 0 and standard deviation 1 by default.\n",
    "\n",
    "To obtain a gaussian distribution with a mean different than 1 using np.random.randn you must add your new mean (it is explained in the dunction documentation for which I already gave you the link)\n",
    "\n",
    "If you want to change the standard deviation (sigma) as well you multiply the distribution by the new sigma.\n",
    "\n",
    "You can do it in a for loop. The first line of code I included generates an array of zeros that you can fill in with your new numbers. \n",
    "\n",
    "\n"
   ]
  },
  {
   "cell_type": "code",
   "execution_count": 17,
   "metadata": {
    "collapsed": false
   },
   "outputs": [
    {
     "data": {
      "text/plain": [
       "array([[[ 28.26943922,  31.12523655,  32.06190526, ...,  30.46855208,\n",
       "          32.07673839,  30.39776271],\n",
       "        [ 30.33667092,  31.26952536,  30.7965783 , ...,  32.3444478 ,\n",
       "          31.65373102,  24.67652156]],\n",
       "\n",
       "       [[ 27.8320664 ,  34.52390641,  33.19326118, ...,  31.51486838,\n",
       "          27.29177534,  26.35352659],\n",
       "        [ 29.0679602 ,  25.48279151,  30.9619868 , ...,  28.00884079,\n",
       "          32.8581685 ,  28.54040292]],\n",
       "\n",
       "       [[ 28.16404087,  32.03220572,  25.06466772, ...,  29.26285987,\n",
       "          31.76924675,  27.55718889],\n",
       "        [ 28.62977872,  29.07420914,  29.31642067, ...,  28.09991199,\n",
       "          28.43645448,  28.95005389]],\n",
       "\n",
       "       ..., \n",
       "       [[ 29.80678352,  30.96396946,  28.0635047 , ...,  32.41691358,\n",
       "          30.53907437,  33.64358868],\n",
       "        [ 26.82215537,  31.64727158,  31.40961411, ...,  30.18641543,\n",
       "          27.59894547,  29.60527329]],\n",
       "\n",
       "       [[ 30.62357331,  27.67488081,  33.79134286, ...,  25.66091975,\n",
       "          30.63466049,  32.7128982 ],\n",
       "        [ 31.40684042,  32.76898002,  28.20328858, ...,  27.34893349,\n",
       "          29.43672327,  30.26867756]],\n",
       "\n",
       "       [[ 25.44854214,  31.84208746,  31.75815695, ...,  29.16078488,\n",
       "          31.07984272,  29.36731773],\n",
       "        [ 28.88473429,  24.9819307 ,  32.30969106, ...,  28.04031208,\n",
       "          34.86731706,  31.16322502]]])"
      ]
     },
     "execution_count": 17,
     "metadata": {},
     "output_type": "execute_result"
    }
   ],
   "source": [
    "ReprRandAll = np.zeros((50, 2, 100))\n",
    "\n",
    "for i in range(50):\n",
    "    ReprRandAll[i] = 2.5 * np.random.randn(2,100) + 30\n",
    "    \n",
    "ReprRandAll"
   ]
  },
  {
   "cell_type": "code",
   "execution_count": 19,
   "metadata": {
    "collapsed": false
   },
   "outputs": [
    {
     "data": {
      "text/plain": [
       "(50, 2, 100)"
      ]
     },
     "execution_count": 19,
     "metadata": {},
     "output_type": "execute_result"
    }
   ],
   "source": [
    "# run this cell\n",
    "ReprRandAll.shape"
   ]
  },
  {
   "cell_type": "markdown",
   "metadata": {},
   "source": [
    "## 3. now plot them: \n",
    "\n",
    "you can use the matplotlib library, and the function scatter(), but that would plot everything in the same color unless you ask it not to. For convenience, let's use the function plot() which by default plots lines, and tell it to plot points (in addition plot is actually more efficient, so if you have a large dataset you may want to consider using plot with points for it anyways)\n",
    "\n",
    "https://scipy-lectures.github.io/intro/matplotlib/matplotlib.html#scatter-plots\n",
    "\n",
    "http://matplotlib.org/users/pyplot_tutorial.html\n"
   ]
  },
  {
   "cell_type": "code",
   "execution_count": 80,
   "metadata": {
    "collapsed": false
   },
   "outputs": [
    {
     "name": "stdout",
     "output_type": "stream",
     "text": [
      "Populating the interactive namespace from numpy and matplotlib\n"
     ]
    },
    {
     "data": {
      "image/png": "[encoded data removed]",
      "text/plain": [
       "<matplotlib.figure.Figure at 0x7f80e5382110>"
      ]
     },
     "metadata": {},
     "output_type": "display_data"
    }
   ],
   "source": [
    "import pylab as pl\n",
    "%pylab inline\n",
    "# the last line of code makes the plot show up within the notebook. \n",
    "# Always include it so that your homework notebooks are rendered and we can see\n",
    "# what you wanted your results to be. \n",
    "\n",
    "plt.plot(ReprRandAll[i], 'o')\n",
    "plt.axis([-0.5,1.5,20,40])\n",
    "plt.xlabel('Dimension', fontsize=12, fontweight='bold')\n",
    "plt.ylabel('Random Number', fontsize=12, fontweight='bold')\n",
    "plt.title('Figure 1', fontsize=16, fontweight='bold')\n",
    "plt.text(-1.9, 15, 'Note: Plot of 50 random 2x100 numpy arrays in guassian distribution. The two dimensions for each array correspond to 0.0 and 1.0.', fontsize=12)\n",
    "plt.show()"
   ]
  },
  {
   "cell_type": "markdown",
   "metadata": {},
   "source": [
    "Always add a caption to each of your homework figures. \n",
    "And remember to give your labels some names! \n",
    "This is a general rule. Without the caption or axis labels this portion of the HW will not get points. Make sure the font in the labels is large enough to be readable.  \n",
    "\n",
    "## Figure 1: \n",
    "\n",
    "[write a caption here]"
   ]
  },
  {
   "cell_type": "markdown",
   "metadata": {},
   "source": [
    "## Challenge\n",
    "\n",
    "It is easier to give the same mean and standard deviation to each dimension. Can you give two different values for the mean along the x- and the mean along the y- axis for each of the 50 distributions if you have not done so? If you are an experienced coder, can you do it in a single line?\n",
    "\n",
    "\n"
   ]
  },
  {
   "cell_type": "code",
   "execution_count": 81,
   "metadata": {
    "collapsed": false
   },
   "outputs": [
    {
     "data": {
      "text/plain": [
       "array([[[ 0.34137014, -1.15695236,  0.4834515 , ..., -2.22173624,\n",
       "          0.56795319, -1.3096267 ],\n",
       "        [ 0.33083052, -1.98066135, -1.28229959, ..., -1.05241107,\n",
       "         -1.03803061,  0.02740593]],\n",
       "\n",
       "       [[-0.30721544, -0.31988501, -0.31060628, ..., -0.21160947,\n",
       "         -0.21277469, -0.36373273],\n",
       "        [-0.3213653 , -0.20285702, -0.50114442, ..., -0.32083886,\n",
       "         -0.31618151, -0.28063654]],\n",
       "\n",
       "       [[-1.00493307, -0.70688344, -0.91481765, ..., -1.19419424,\n",
       "         -1.0695301 , -1.28277567],\n",
       "        [-1.01001064, -1.20016674, -0.95922358, ..., -1.09319981,\n",
       "         -1.21394841, -1.02891815]],\n",
       "\n",
       "       ..., \n",
       "       [[ 0.57230145,  0.22137681,  0.16992524, ..., -2.87357684,\n",
       "         -0.92967844, -0.78163069],\n",
       "        [ 0.35286742, -1.03172822, -2.19623644, ..., -1.90109635,\n",
       "         -0.16777652, -1.41301113]],\n",
       "\n",
       "       [[-0.60786564, -0.84144179,  3.86465692, ..., -6.39714947,\n",
       "          2.50295659, -2.07141231],\n",
       "        [ 1.98141653, -0.78226208,  2.26562404, ..., -2.22992781,\n",
       "          0.71004717, -0.48968471]],\n",
       "\n",
       "       [[-0.53307277, -0.49850446,  0.45260902, ..., -0.01774555,\n",
       "         -0.37817466, -0.73619721],\n",
       "        [-0.53437936, -0.19912517, -0.12573024, ..., -0.61556116,\n",
       "         -0.98380718, -0.42092426]]])"
      ]
     },
     "execution_count": 81,
     "metadata": {},
     "output_type": "execute_result"
    }
   ],
   "source": [
    "ReprRandMean = np.zeros((50, 2, 100))\n",
    "\n",
    "for i in range(50):\n",
    "    ReprRandMean[i] = np.random.randn() * np.random.randn(2,100) + np.random.randn()\n",
    "\n",
    "ReprRandMean"
   ]
  },
  {
   "cell_type": "code",
   "execution_count": 97,
   "metadata": {
    "collapsed": false
   },
   "outputs": [
    {
     "name": "stdout",
     "output_type": "stream",
     "text": [
      "Populating the interactive namespace from numpy and matplotlib\n"
     ]
    },
    {
     "data": {
      "image/png": "[encoded data removed]",
      "text/plain": [
       "<matplotlib.figure.Figure at 0x7f819c7c5b90>"
      ]
     },
     "metadata": {},
     "output_type": "display_data"
    }
   ],
   "source": [
    "import pylab as pl\n",
    "%pylab inline\n",
    "\n",
    "plt.plot(ReprRandMean[i], 'o')\n",
    "plt.axis([-0.5,1.5,-2,2])\n",
    "plt.xlabel('Dimension', fontsize=12, fontweight='bold')\n",
    "plt.ylabel('Random Number', fontsize=12, fontweight='bold')\n",
    "plt.title('Figure 2', fontsize=16, fontweight='bold')\n",
    "plt.text(-2, -3.5, 'Note: Plot of 50 random 2x100 numpy arrays in guassian distribution. \\nTwo different values for mean given along -x and -y axis for each of 50 distributions. The two dimensions for each array correspond to 0.0 and 1.0.', fontsize=12)\n",
    "plt.show()"
   ]
  },
  {
   "cell_type": "code",
   "execution_count": null,
   "metadata": {
    "collapsed": false
   },
   "outputs": [],
   "source": []
  },
  {
   "cell_type": "code",
   "execution_count": null,
   "metadata": {
    "collapsed": true
   },
   "outputs": [],
   "source": []
  }
 ],
 "metadata": {
  "anaconda-cloud": {},
  "kernelspec": {
   "display_name": "Python 2",
   "language": "python",
   "name": "python2"
  },
  "language_info": {
   "codemirror_mode": {
    "name": "ipython",
    "version": 2
   },
   "file_extension": ".py",
   "mimetype": "text/x-python",
   "name": "python",
   "nbconvert_exporter": "python",
   "pygments_lexer": "ipython2",
   "version": "2.7.11"
  }
 },
 "nbformat": 4,
 "nbformat_minor": 0
}
